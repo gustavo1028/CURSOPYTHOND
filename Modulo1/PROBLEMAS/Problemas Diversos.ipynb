{
 "cells": [
  {
   "cell_type": "markdown",
   "metadata": {},
   "source": [
    "# PROBLEMAS DIVERSOS"
   ]
  },
  {
   "cell_type": "markdown",
   "metadata": {},
   "source": [
    "<h3>1.</h3>\n",
    "Escribí un programa que solicite al usuario ingresar la cantidad de kilómetros recorridos por una motocicleta y la cantidad de litros de combustible que consumió durante ese recorrido. Mostrar el consumo de combustible por kilómetro."
   ]
  },
  {
   "cell_type": "markdown",
   "metadata": {},
   "source": [
    "<code>Kilómetros recorridos: 260\n",
    "Litros de combustible gastados: 12.5\n",
    "El consumo por kilómetro es de 20.8<code>"
   ]
  },
  {
   "cell_type": "code",
   "execution_count": 4,
   "metadata": {},
   "outputs": [
    {
     "name": "stdin",
     "output_type": "stream",
     "text": [
      "Kilómetros recorridos: 260\n",
      "Litros de combustible gastados: 12.5\n"
     ]
    },
    {
     "name": "stdout",
     "output_type": "stream",
     "text": [
      "El consumo por kilómetro es de: 20.8\n"
     ]
    }
   ],
   "source": [
    "kilometros=float(input(\"Kilómetros recorridos:\"))\n",
    "litros=float(input(\"Litros de combustible gastados:\"))\n",
    "consumo=kilometros/litros\n",
    "print(\"El consumo por kilómetro es de:\",consumo)"
   ]
  },
  {
   "cell_type": "code",
   "execution_count": null,
   "metadata": {},
   "outputs": [],
   "source": []
  },
  {
   "cell_type": "code",
   "execution_count": null,
   "metadata": {},
   "outputs": [],
   "source": []
  },
  {
   "cell_type": "markdown",
   "metadata": {},
   "source": [
    "### 2.\n",
    "Escriba un programa que pida los coeficientes de una ecuación de segundo grado <code>(a x² + b x + c = 0)</code> y escriba la solución.\n",
    "\n",
    "Se recuerda que una ecuación de segundo grado puede no tener solución, tener una solución única, tener dos soluciones o que todos los números sean solución."
   ]
  },
  {
   "cell_type": "markdown",
   "metadata": {},
   "source": [
    "<img src='https://i.pinimg.com/originals/d3/f7/01/d3f701528ad56ce0f5a98d7c91722fd7.png'>"
   ]
  },
  {
   "cell_type": "markdown",
   "metadata": {},
   "source": [
    "Su programa debe indicar:\n",
    "- En caso la ecuación cuadrática tenga solución real, su programa debe brindar la solución\n",
    "- En caso su ecuación no tenga solución real, su programa debe brindar un mensaje que diga \"Ecuación no presenta solución real\""
   ]
  },
  {
   "cell_type": "code",
   "execution_count": 26,
   "metadata": {},
   "outputs": [
    {
     "name": "stdin",
     "output_type": "stream",
     "text": [
      "Ingrese el primer coeficiente 2\n",
      "Ingrese la segunda variable 4\n",
      "Ingrese el termino independiente -6\n"
     ]
    },
    {
     "name": "stdout",
     "output_type": "stream",
     "text": [
      "Las soluciones de la ecuacion son:\n",
      "x1= 1.0\n",
      "x2= -3.0\n"
     ]
    }
   ],
   "source": [
    "a=int(input(\"Ingrese el primer coeficiente\"))\n",
    "b=int(input(\"Ingrese la segunda variable\"))\n",
    "c=int(input(\"Ingrese el termino independiente\"))\n",
    "dis=(b**2)-4*a*c\n",
    "x1=0\n",
    "x2=0\n",
    "if dis<0:\n",
    "    print(\"La solución de la ecuación tiene números complejos\")\n",
    "else:\n",
    "    x1=(-b+(dis)**(1/2))/(2*a)\n",
    "    x2=(-b-(dis)**(1/2))/(2*a)\n",
    "    print(\"Las soluciones de la ecuacion son:\")\n",
    "    print(\"x1=\",x1)\n",
    "    print(\"x2=\",x2)\n"
   ]
  },
  {
   "cell_type": "code",
   "execution_count": null,
   "metadata": {},
   "outputs": [],
   "source": []
  }
 ],
 "metadata": {
  "kernelspec": {
   "display_name": "Python 3",
   "language": "python",
   "name": "python3"
  },
  "language_info": {
   "codemirror_mode": {
    "name": "ipython",
    "version": 3
   },
   "file_extension": ".py",
   "mimetype": "text/x-python",
   "name": "python",
   "nbconvert_exporter": "python",
   "pygments_lexer": "ipython3",
   "version": "3.8.5"
  }
 },
 "nbformat": 4,
 "nbformat_minor": 4
}
